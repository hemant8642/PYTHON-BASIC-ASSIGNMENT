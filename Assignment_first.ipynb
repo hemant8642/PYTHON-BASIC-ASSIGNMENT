{
  "nbformat": 4,
  "nbformat_minor": 0,
  "metadata": {
    "colab": {
      "provenance": []
    },
    "kernelspec": {
      "name": "python3",
      "display_name": "Python 3"
    },
    "language_info": {
      "name": "python"
    }
  },
  "cells": [
    {
      "cell_type": "markdown",
      "source": [
        "**QUE 1ST. Explain the key features of Python that make it a popular choice for programming.**"
      ],
      "metadata": {
        "id": "jgFulWQs6f7F"
      }
    },
    {
      "cell_type": "markdown",
      "source": [
        "ANS:\n",
        "**Easy to Learn and Use**\n",
        "1. Simple syntax: Python's syntax is designed to be intuitive and readable.\n",
        "2. Forgiving: Python allows for flexible indentation and handles errors graciously.\n",
        "3. Extensive libraries: Python's vast library collection simplifies tasks.\n",
        "\n",
        "**Versatile and Flexible**\n",
        "1. General-purpose: Python can be used for web development, data analysis, AI, automation, and more.\n",
        "2. Cross-platform: Python runs on Windows, macOS, Linux, and mobile platforms.\n",
        "3. Dynamic typing: Python's dynamic typing allows for flexibility in\n",
        "\n",
        "**High-Level Language**\n",
        "\n",
        "1. Abstracted memory management: Python handles memory allocation and deallocation automatically.\n",
        "2. Object-oriented: Python supports OOP concepts like encapsulation, inheritance, and polymorphism.\n",
        "3. Functional programming: Python supports functional programming paradigms.\n",
        "\n",
        "**Large Community and Ecosystem**\n",
        "\n",
        "1. Extensive libraries and frameworks: NumPy, pandas, Flask, Django, TensorFlow, etc.\n",
        "2. Active community: Conferences, meetups, forums, and online resources.\n",
        "3. Open-source: Python's open-source nature encourages collaboration and contribution.\n",
        "\n",
        "**Rapid Development and Prototyping**\n",
        "\n",
        "1. Fast development: Python's syntax and nature enable quick prototyping.\n",
        "2. Interactive shell: Python's interactive shell facilitates experimentation.\n",
        "3. Dynamic loading: Python's dynamic loading allows for seamless module imports.\n",
        "\n",
        "**Applications**\n",
        "\n",
        "1. Web development (Flask, Django)\n",
        "2. Data science and analytics (NumPy, pandas, Matplotlib)\n",
        "3. Artificial intelligence and machine learning (TensorFlow, Keras)\n",
        "4. Automation and scripting\n",
        "5. Scientific computing and research\n",
        "6. Education and research\n"
      ],
      "metadata": {
        "id": "R1SemCrY6uCU"
      }
    },
    {
      "cell_type": "markdown",
      "source": [
        "**QUE2ND :Describe the role of predefined keywords in Python and provide examples of how they are used in a\n",
        "program**"
      ],
      "metadata": {
        "id": "UDMHt_1O9RYT"
      }
    },
    {
      "cell_type": "markdown",
      "source": [
        "ANS:\n",
        "In Python, predefined keywords are reserved words that have special meanings and are used to define the structure and logic of a program. These keywords are used to specify the actions to be performed, control the flow of the program, and define the relationships between variables.\n",
        "\n",
        "List of Python Keywords:\n",
        "\n",
        "Here are some of the most commonly used Python keywords:\n",
        "\n",
        "1. Conditional keywords:\n",
        "    - if\n",
        "    - elif\n",
        "    - else\n",
        "2. Looping keywords:\n",
        "    - for\n",
        "    - while\n",
        "    - break\n",
        "    - continue\n",
        "3. Function definition keywords:\n",
        "    - def\n",
        "    - lambda\n",
        "4. Control flow keywords:\n",
        "    - return\n",
        "    - yield\n",
        "    - pass\n",
        "5. Exception handling keywords:\n",
        "    - try\n",
        "    - except\n",
        "    - finally\n",
        "6. Class definition keywords:\n",
        "    - class\n",
        "    - inheritance (e.g., class MyClass(ParentClass))\n",
        "7. Import keywords:\n",
        "    - import\n",
        "    - from\n",
        "    - as\n",
        "8. Logical operators:\n",
        "    - and\n",
        "    - or\n",
        "    - not\n",
        "9. Assignment operators:\n",
        "    - =\n",
        "    - += -= *= /= //= %= <<= >>= &= ^= |=\n"
      ],
      "metadata": {
        "id": "fPy-SdrlGB6W"
      }
    },
    {
      "cell_type": "code",
      "source": [
        "#Examples Keyword Usage\n",
        "#Conditional Statement:\n",
        "\n",
        "x = 5\n",
        "if x > 10:\n",
        "    print(\"x is greater than 10\")\n",
        "else:\n",
        "    print(\"x is less than or equal to 10\")\n"
      ],
      "metadata": {
        "id": "EwyaAtD0GeHM"
      },
      "execution_count": null,
      "outputs": []
    },
    {
      "cell_type": "code",
      "source": [
        "#Looping Statement:\n",
        "\n",
        "fruits = [\"apple\", \"banana\", \"cherry\"]\n",
        "for fruit in fruits:\n",
        "    print(fruit)\n"
      ],
      "metadata": {
        "id": "S1R9bk75G33r"
      },
      "execution_count": null,
      "outputs": []
    },
    {
      "cell_type": "code",
      "source": [
        "#Function Definition:\n",
        "\n",
        "def greet(name):\n",
        "    print(f\"Hello, {name}!\")\n",
        "\n",
        "greet(\"John\")"
      ],
      "metadata": {
        "id": "OU-ClwfSHB7g"
      },
      "execution_count": null,
      "outputs": []
    },
    {
      "cell_type": "code",
      "source": [
        "#Import Statement:\n",
        "\n",
        "import math\n",
        "print(math.pi)\n"
      ],
      "metadata": {
        "id": "D-TClvLhHz-p"
      },
      "execution_count": null,
      "outputs": []
    },
    {
      "cell_type": "markdown",
      "source": [
        "**QUE 3RD: Compare and contrast mutable and immutable objects in Python with examples**"
      ],
      "metadata": {
        "id": "HsUnfOfnIDTJ"
      }
    },
    {
      "cell_type": "markdown",
      "source": [
        "ANS:\n",
        "In Python, objects can be either mutable or immutable.\n",
        "\n",
        "**Immutable Objects**:\n",
        "\n",
        "1. Cannot be changed once created.\n",
        "2. New object is created when modified.\n",
        "3. Hashable (can be used as dictionary keys).\n",
        "\n",
        "Examples:\n",
        "\n",
        "- Integers (int): x = 5; x += 1 creates a new object.\n",
        "- Floats (float): x = 3.14; x += 1 creates a new object.\n",
        "- Strings (str): s = \"hello\"; s += \" world\" creates a new object.\n",
        "- Tuples (tuple): t = (1, 2, 3); t += (4, 5) creates a new object.\n",
        "- Frozensets (frozenset): fs = frozenset([1, 2, 3]); fs |= {4, 5} creates a new object.\n",
        "\n",
        "**Mutable Objects**:\n",
        "\n",
        "1. Can be changed after creation.\n",
        "2. Modified in-place.\n",
        "3. Not hashable (cannot be used as dictionary keys).\n",
        "\n",
        "Examples:\n",
        "\n",
        "- Lists (list): l = [1, 2, 3]; l.append(4) modifies the existing object.\n",
        "- Dictionaries (dict): d = {\"a\": 1}; d[\"b\"] = 2 modifies the existing object.\n",
        "- Sets (set): s = {1, 2, 3}; s.add(4) modifies the existing object.\n",
        "- User-defined classes (unless specifically designed to be immutable).\n"
      ],
      "metadata": {
        "id": "KoLP8B3fIhqm"
      }
    },
    {
      "cell_type": "code",
      "source": [
        "#Example\n",
        "\n",
        "# Immutable object (tuple)\n",
        "t = (1, 2, 3)\n",
        "print(t)\n",
        "t += (4, 5)\n",
        "print(t)\n"
      ],
      "metadata": {
        "id": "LHExh1MIJeLe"
      },
      "execution_count": null,
      "outputs": []
    },
    {
      "cell_type": "code",
      "source": [
        "# Mutable object (list)\n",
        "l = [1, 2, 3]\n",
        "print(l)\n",
        "l.append(4)\n",
        "print(l)"
      ],
      "metadata": {
        "id": "_p7UYklHJuuL"
      },
      "execution_count": null,
      "outputs": []
    },
    {
      "cell_type": "markdown",
      "source": [
        "**QUE 4RTH:\n",
        "Discuss the different types of operators in Python and provide examples of how they are used**"
      ],
      "metadata": {
        "id": "1rPQDOpWKwtc"
      }
    },
    {
      "cell_type": "markdown",
      "source": [
        "ANS:\n",
        "Python has various types of operators that perform different operations. Here are the main types of operators in Python, along with examples:\n",
        "\n",
        "**Arithmetic Operators**\n",
        "\n",
        "1. Addition (+): a + b\n",
        "2. Subtraction (-): a - b\n",
        "3. Multiplication (*): a * b\n",
        "4. Division (/): a / b\n",
        "5. Floor Division (//): a // b\n",
        "6. Modulus (%): a % b\n",
        "7. Exponentiation (**): a ** b\n",
        "\n"
      ],
      "metadata": {
        "id": "M3GbS4C6LNBg"
      }
    },
    {
      "cell_type": "code",
      "source": [
        "#Example:\n",
        "\n",
        "a = 5\n",
        "b = 3\n",
        "print(a + b)  #8\n",
        "print(a * b)  #15\n",
        "print(a / b)  #1.66667"
      ],
      "metadata": {
        "id": "KxQBaw4rLd8V"
      },
      "execution_count": null,
      "outputs": []
    },
    {
      "cell_type": "markdown",
      "source": [
        "**Comparison Operators**\n",
        "\n",
        "1. Equal (==): a == b\n",
        "2. Not Equal (!=): a != b\n",
        "3. Greater Than (>): a > b\n",
        "4. Less Than (<): a < b\n",
        "5. Greater Than or Equal (>=): a >= b\n",
        "6. Less Than or Equal (<=): a <= b\n"
      ],
      "metadata": {
        "id": "SWtg7zhcLvi_"
      }
    },
    {
      "cell_type": "code",
      "source": [
        "#Example:\n",
        "\n",
        "a = 5\n",
        "b = 3\n",
        "print(a > b) #True\n",
        "print(a == b)  #False"
      ],
      "metadata": {
        "id": "Q1pJwmgQL0V0"
      },
      "execution_count": null,
      "outputs": []
    },
    {
      "cell_type": "markdown",
      "source": [
        "**Logical Operators**\n",
        "\n",
        "1. And (and): a and b\n",
        "2. Or (or): a or b\n",
        "3. Not (not): not a\n"
      ],
      "metadata": {
        "id": "q_7CmJUMMEbn"
      }
    },
    {
      "cell_type": "code",
      "source": [
        "#Example:\n",
        "\n",
        "a = True\n",
        "b = False\n",
        "print(a and b)  #False\n",
        "print(a or b) #True\n",
        "print(not a)  #False\n"
      ],
      "metadata": {
        "id": "wyf86rG-MJZs"
      },
      "execution_count": null,
      "outputs": []
    },
    {
      "cell_type": "markdown",
      "source": [
        "**Assignment Operators**\n",
        "\n",
        "1. Assign (=): a = b\n",
        "2. Add and Assign (+=): a += b\n",
        "3. Subtract and Assign (-=): a -= b\n",
        "4. Multiply and Assign (*=): a *= b\n",
        "5. Divide and Assign (/=): a /= b\n"
      ],
      "metadata": {
        "id": "kgWNIK0mNFaX"
      }
    },
    {
      "cell_type": "code",
      "source": [
        "#Example:\n",
        "\n",
        "a = 5\n",
        "b = 3\n",
        "a += b\n",
        "print(a)  # Output: 8"
      ],
      "metadata": {
        "id": "VsoYKezMNJFM"
      },
      "execution_count": null,
      "outputs": []
    },
    {
      "cell_type": "markdown",
      "source": [
        "**Bitwise Operators**\n",
        "\n",
        "1. Bitwise AND (&): a & b\n",
        "2. Bitwise OR (|): a | b\n",
        "3. Bitwise XOR (^): a ^ b\n",
        "4. Bitwise NOT (~): ~a\n",
        "5. Left Shift (<<): a << b\n",
        "6. Right Shift (>>): a >> b\n"
      ],
      "metadata": {
        "id": "KgLdeafYNcxO"
      }
    },
    {
      "cell_type": "code",
      "source": [
        "#Example:\n",
        "\n",
        "a = 5  # binary: 101\n",
        "b = 3  # binary: 011\n",
        "print(a & b)  # Output: 1 (binary: 001)\n"
      ],
      "metadata": {
        "id": "yMGj6dGoNkp_"
      },
      "execution_count": null,
      "outputs": []
    },
    {
      "cell_type": "markdown",
      "source": [
        "**Membership Operators**\n",
        "\n",
        "1. In (in): a in b\n",
        "2. Not In (not in): a not in b\n"
      ],
      "metadata": {
        "id": "lEG2eKFWNzyA"
      }
    },
    {
      "cell_type": "code",
      "source": [
        "#Example:\n",
        "\n",
        "fruits = ['apple', 'banana', 'cherry']\n",
        "print('apple' in fruits)  # Output: True\n",
        "print('orange' not in fruits)  # Output: True\n"
      ],
      "metadata": {
        "id": "igkzdkWqN5xi"
      },
      "execution_count": null,
      "outputs": []
    },
    {
      "cell_type": "markdown",
      "source": [
        "**Identity Operators**\n",
        "\n",
        "1. Is (is): a is b\n",
        "2. Is Not (is not): a is not b\n"
      ],
      "metadata": {
        "id": "bjGwWbayOGVu"
      }
    },
    {
      "cell_type": "code",
      "source": [
        "#Example:\n",
        "\n",
        "a = [1, 2, 3]\n",
        "b = [1, 2, 3]\n",
        "print(a is b)  # Output: False (different objects)\n",
        "print(a == b)  # Output: True (same values)"
      ],
      "metadata": {
        "id": "K9xlCoj2OK-1"
      },
      "execution_count": null,
      "outputs": []
    },
    {
      "cell_type": "markdown",
      "source": [
        "**QUE 5TH:\n",
        " Explain the concept of type casting in Python with examples**"
      ],
      "metadata": {
        "id": "Nrf3jEsyObZ-"
      }
    },
    {
      "cell_type": "markdown",
      "source": [
        "ANS:\n",
        "Type casting in Python is the process of converting a variable from one data type to another. This can be done using built-in functions or operators.\n",
        "\n",
        "Types of Type Casting:\n",
        "\n",
        "1. Implicit Type Casting\n",
        "2. Explicit Type Casting\n"
      ],
      "metadata": {
        "id": "qctQbGIwOzpg"
      }
    },
    {
      "cell_type": "code",
      "source": [
        "#Implicit Type Casting:\n",
        "\n",
        "#Python automatically converts data types in certain situations:\n",
        "\n",
        " #Integer to Float:\n",
        "a = 5; b = 3.0; print(a + b) #(result: 8.0)\n",
        "# Float to Integer:\n",
        "a = 3.0; b = int(a); print(b) #(result: 3)\n",
        " #String to List:\n",
        "s = \"hello\"; print(list(s)) #(result: ['h', 'e', 'l', 'l', 'o'])\n"
      ],
      "metadata": {
        "id": "s9TgnHPGPGiM"
      },
      "execution_count": null,
      "outputs": []
    },
    {
      "cell_type": "code",
      "source": [
        "#Explicit Type Casting:\n",
        "\n",
        "#Using built-in functions:\n",
        "\n",
        "int()# Converts to integer.\n",
        "a = \"123\"; print(int(a)) #(result: 123)\n",
        "float()# Converts to floating-point number.\n",
        "a = \"123.45\"; print(float(a)) #(result: 123.45)\n",
        "str()# Converts to string.\n",
        "a = 123; print(str(a)) #(result: \"123\")"
      ],
      "metadata": {
        "id": "df6X-aWlP3lT"
      },
      "execution_count": null,
      "outputs": []
    },
    {
      "cell_type": "markdown",
      "source": [
        "**QUE 6TH:\n",
        " How do conditional statements work in Python? Illustrate with examples**"
      ],
      "metadata": {
        "id": "oz6NXU02QrLw"
      }
    },
    {
      "cell_type": "markdown",
      "source": [
        "ANS:\n",
        "Conditional statements in Python are used to execute specific blocks of code based on conditions or decisions.\n",
        "\n",
        "Types of Conditional Statements:\n",
        "\n",
        "1. If Statement\n",
        "2. If-Else Statement\n",
        "3. If-Elif-Else Statement\n",
        "4. Nested If Statements\n"
      ],
      "metadata": {
        "id": "Ae3CPqyBRpOM"
      }
    },
    {
      "cell_type": "code",
      "source": [
        "# If Statement:\n",
        "\n",
        "\n",
        "#if condition:\n",
        "    # code to execute\n",
        "\n",
        "\n",
        "#Example:\n",
        "\n",
        "x = 11\n",
        "if x > 10:\n",
        "    print(\"x is greater than 10\")\n",
        "\n"
      ],
      "metadata": {
        "id": "jsMhv-jVR6aX"
      },
      "execution_count": null,
      "outputs": []
    },
    {
      "cell_type": "code",
      "source": [
        "#If-Else Statement:\n",
        "\n",
        "\n",
        "#if condition:\n",
        "    # code to execute if true\n",
        "#else:\n",
        "    # code to execute if false\n",
        "\n",
        "\n",
        "#Example:\n",
        "\n",
        "x = 5\n",
        "if x > 10:\n",
        "    print(\"x is greater than 10\")\n",
        "else:\n",
        "    print(\"x is less than or equal to 10\")\n",
        "\n"
      ],
      "metadata": {
        "id": "Rmze8NL_R_dd"
      },
      "execution_count": null,
      "outputs": []
    },
    {
      "cell_type": "code",
      "source": [
        "#If-Elif-Else Statement:\n",
        "\n",
        "\n",
        "#if condition1:\n",
        "    # code to execute if condition1 is true\n",
        "#elif condition2:\n",
        "    # code to execute if condition1 is false and condition2 is true\n",
        "#else:\n",
        "    # code to execute if all conditions are false\n",
        "\n",
        "\n",
        "#Example:\n",
        "\n",
        "x = 5\n",
        "if x > 10:\n",
        "    print(\"x is greater than 10\")\n",
        "elif x == 5:\n",
        "    print(\"x is equal to 5\")\n",
        "else:\n",
        "    print(\"x is less than 5\")\n"
      ],
      "metadata": {
        "id": "VWa_LFgySZiX"
      },
      "execution_count": null,
      "outputs": []
    },
    {
      "cell_type": "markdown",
      "source": [],
      "metadata": {
        "id": "FbeGqO78SZEg"
      }
    },
    {
      "cell_type": "code",
      "source": [
        "# Nested If Statements:\n",
        "\n",
        "\n",
        "#if condition1:\n",
        " #   if condition2:\n",
        "        # code to execute\n",
        "  #  else:\n",
        "        # code to execute\n",
        "\n",
        "\n",
        "#Example:\n",
        "\n",
        "x = 11\n",
        "y = 3\n",
        "if x > 10:\n",
        "    if y > 2:\n",
        "        print(\"x is greater than 10 and y is greater than 2\")\n",
        "    else:\n",
        "        print(\"x is greater than 10 but y is less than or equal to 2\")\n"
      ],
      "metadata": {
        "id": "6doPlQmGStqU"
      },
      "execution_count": null,
      "outputs": []
    },
    {
      "cell_type": "markdown",
      "source": [
        "**QUE 7TH:\n",
        " Describe the different types of loops in Python and their use cases with examples**"
      ],
      "metadata": {
        "id": "qOCuVVZNTLTj"
      }
    },
    {
      "cell_type": "markdown",
      "source": [
        "**ANS:**\n",
        "Python has two primary types of loops: For loops and While loops.\n",
        "\n",
        "**For Loops**\n",
        "\n",
        "For loops iterate over a sequence (such as a list, tuple, or string) and execute a block of code for each item.\n"
      ],
      "metadata": {
        "id": "j_hfbO45TjNz"
      }
    },
    {
      "cell_type": "code",
      "source": [
        "# Iterate over a list\n",
        "fruits = ['apple', 'banana', 'cherry']\n",
        "for fruit in fruits:\n",
        "    print(fruit)\n"
      ],
      "metadata": {
        "id": "mr9AKF-3T5rw"
      },
      "execution_count": null,
      "outputs": []
    },
    {
      "cell_type": "markdown",
      "source": [
        "**While Loops**\n",
        "\n",
        "While loops continue to execute a block of code as long as a condition is true.\n"
      ],
      "metadata": {
        "id": "qZaVse7zT_ta"
      }
    },
    {
      "cell_type": "code",
      "source": [
        "#Examples:\n",
        "\n",
        "\n",
        "# Countdown from 5\n",
        "i = 5\n",
        "while i > 0:\n",
        "    print(i)\n",
        "    i -= 1\n"
      ],
      "metadata": {
        "id": "rYUAR9IEUGgP"
      },
      "execution_count": null,
      "outputs": []
    },
    {
      "cell_type": "markdown",
      "source": [
        "**Nested Loops**\n",
        "\n",
        "Nested loops have one loop inside another.\n"
      ],
      "metadata": {
        "id": "Zn_hhFT-UW4O"
      }
    },
    {
      "cell_type": "code",
      "source": [
        "#Example:\n",
        "\n",
        "\n",
        "# Print a multiplication table\n",
        "for i in range(1, 11):\n",
        "    for j in range(1, 11):\n",
        "        print(f\"{i} x {j} = {i*j}\")\n"
      ],
      "metadata": {
        "id": "145FMysZUaMh"
      },
      "execution_count": null,
      "outputs": []
    }
  ]
}